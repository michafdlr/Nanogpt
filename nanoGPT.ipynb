{
 "cells": [
  {
   "cell_type": "code",
   "execution_count": 2,
   "metadata": {},
   "outputs": [],
   "source": [
    "import torch\n",
    "import matplotlib.pyplot as plt\n",
    "import numpy as np\n",
    "%matplotlib inline\n"
   ]
  },
  {
   "cell_type": "code",
   "execution_count": 15,
   "metadata": {},
   "outputs": [
    {
     "name": "stdout",
     "output_type": "stream",
     "text": [
      "Zueignung\n",
      "\n",
      "\n",
      "Ihr naht euch wieder, schwankende Gestalten,\n",
      "Die früh sich einst dem trüben Blick gezeigt.\n",
      "Versuch ich wohl, euch diesmal festzuhalten?\n",
      "Fühl ich mein Herz noch jenem Wahn geneigt?\n",
      "Ihr drängt euch zu! nun gut, so mögt ihr walten,\n",
      "Wie ihr aus Dunst und Nebel um mich steigt;\n",
      "Mein Busen fühlt sich jugendlich erschüttert\n",
      "Vom Zauberhauch, der euren Zug umwittert.\n",
      "\n",
      "Ihr bringt mit euch die Bilder froher Tage,\n",
      "Und manche liebe Schatten steigen auf;\n",
      "Gleich einer alten, halbverklungnen Sage\n",
      "Kommt erste Lieb und Freundschaft mit herauf;\n",
      "Der Schmerz wird neu, es wiederholt die Klage\n",
      "Des Lebens labyrinthisch irren Lauf,\n",
      "Und nennt die Guten, die, um schöne Stunden\n",
      "Vom Glück getäuscht, vor mir hinweggeschwunden.\n",
      "\n",
      "Sie hören nicht die folgenden Gesänge,\n",
      "Die Seelen, denen ich die ersten sang;\n",
      "Zerstoben ist das freundliche Gedränge,\n",
      "Verklungen, ach! der erste Widerklang.\n",
      "Mein Lied ertönt der unbekannten Menge,\n",
      "Ihr Beifall selbst macht meinem Herzen bang,\n",
      "Und was sich sonst an meinem Lied erfr\n",
      "---\n",
      "1.  Akt--Anmutige Gegend\n",
      "\n",
      "Faust auf blumigen Rasen gebettet, ermüdet, unruhig,\n",
      "schlafsuchend.\n",
      "\n",
      "Dämmerung.\n",
      "\n",
      "Geister-Kreis schwebend bewegt, anmutige kleine Gestalten.\n",
      "\n",
      "\n",
      "ARIEL.\n",
      "\n",
      "Gesang von Aolsharfen begleitet.\n",
      "\n",
      "Wenn der Blüten Frühlingsregen\n",
      "Über alle schwebend sinkt,\n",
      "Wenn der Felder grüner Segen\n",
      "Allen Erdgebornen blinkt,\n",
      "Kleiner Elfen Geistergröße\n",
      "Eilet, wo sie helfen kann;\n",
      "Ob er heilig, ob er böse,\n",
      "Jammert sie der Unglücksmann.\n",
      "\n",
      "Die ihr dies Haupt umschwebt im luft'gen Kreise,\n",
      "Erzeigt euch hier nach edler Elfen Weise:\n",
      "Besänftiget des Herzens grimmen Strauß,\n",
      "Entfernt des Vorwurfs glühend bittre Pfeile,\n",
      "Sein Innres reinigt von erlebtem Graus!\n",
      "Vier sind die Pausen nächtiger Weile;\n",
      "Nun ohne Säumen füllt sie freundlich aus!\n",
      "Erst senkt sein Haupt aufs kühle Polster nieder,\n",
      "Dann badet ihn im Tau aus Lethes Flut!\n",
      "Gelenk sind bald die krampferstarrten Glieder,\n",
      "Wenn er gestärkt dem Tag entgegen ruht.\n",
      "Vollbringt der Elfen schönste Pflicht:\n",
      "Gebt ihn zurück dem heiligen Licht!\n",
      "\n",
      "\n",
      "CHOR\n",
      "\n",
      "einzeln, zu \n"
     ]
    }
   ],
   "source": [
    "faust = open(\"goethe_faust.txt\", \"r\", encoding=\"utf-8\").read()\n",
    "faust_2 = open(\"goethe_faust_2.txt\", \"r\", encoding=\"utf-8\").read()\n",
    "print(faust[:1000])\n",
    "print(\"---\")\n",
    "print(faust_2[:1000])\n"
   ]
  },
  {
   "cell_type": "code",
   "execution_count": 16,
   "metadata": {},
   "outputs": [
    {
     "name": "stdout",
     "output_type": "stream",
     "text": [
      "187238 292107\n"
     ]
    }
   ],
   "source": [
    "print(len(faust), len(faust_2))\n"
   ]
  },
  {
   "cell_type": "code",
   "execution_count": 18,
   "metadata": {},
   "outputs": [
    {
     "name": "stdout",
     "output_type": "stream",
     "text": [
      "\n",
      " !(),-.:;?ABCDEFGHIJKLMNOPQRSTUVWXYZabcdefghijklmnopqrstuvwxyzÄÖÜßäöü—’“”﻿\n",
      "75\n"
     ]
    }
   ],
   "source": [
    "chars = sorted(list(set(faust)))\n",
    "vocab_size = len(chars)\n",
    "print(''.join(chars))\n",
    "print(vocab_size)\n"
   ]
  },
  {
   "cell_type": "code",
   "execution_count": 24,
   "metadata": {},
   "outputs": [],
   "source": [
    "stoi = {s:i for i,s in enumerate(chars)}\n",
    "itos = {i:s for s,i in stoi.items()}\n",
    "itos\n",
    "encode = lambda s: stoi[s]\n",
    "decode = lambda i: itos[i]\n"
   ]
  },
  {
   "cell_type": "code",
   "execution_count": 29,
   "metadata": {},
   "outputs": [
    {
     "name": "stdout",
     "output_type": "stream",
     "text": [
      "37\n",
      "a\n"
     ]
    }
   ],
   "source": [
    "print(encode(\"a\"))\n",
    "print(decode(37))\n"
   ]
  },
  {
   "cell_type": "code",
   "execution_count": null,
   "metadata": {},
   "outputs": [],
   "source": []
  }
 ],
 "metadata": {
  "kernelspec": {
   "display_name": "lewagon",
   "language": "python",
   "name": "python3"
  },
  "language_info": {
   "codemirror_mode": {
    "name": "ipython",
    "version": 3
   },
   "file_extension": ".py",
   "mimetype": "text/x-python",
   "name": "python",
   "nbconvert_exporter": "python",
   "pygments_lexer": "ipython3",
   "version": "3.10.6"
  }
 },
 "nbformat": 4,
 "nbformat_minor": 2
}
